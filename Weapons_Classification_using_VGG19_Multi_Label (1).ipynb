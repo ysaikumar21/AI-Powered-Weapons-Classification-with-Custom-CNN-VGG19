{
  "cells": [
    {
      "cell_type": "code",
      "execution_count": null,
      "metadata": {
        "colab": {
          "base_uri": "https://localhost:8080/"
        },
        "id": "ix77XK1B9GpH",
        "outputId": "1780ae16-7d16-46b5-ef70-c9b57b553828"
      },
      "outputs": [
        {
          "output_type": "stream",
          "name": "stdout",
          "text": [
            "Mounted at /content/drive\n"
          ]
        }
      ],
      "source": [
        "from google.colab import drive\n",
        "drive.mount('/content/drive')"
      ]
    },
    {
      "cell_type": "code",
      "execution_count": null,
      "metadata": {
        "id": "2STD7jMiFbwZ"
      },
      "outputs": [],
      "source": [
        "import tensorflow as tf\n",
        "from tensorflow.keras.applications import VGG19\n",
        "from tensorflow.keras.layers import Dense, Flatten, Dropout\n",
        "from tensorflow.keras.models import Model\n",
        "from tensorflow.keras.optimizers import Adam\n",
        "from sklearn.metrics import accuracy_score\n",
        "import os\n",
        "from tensorflow.keras.preprocessing.image import ImageDataGenerator\n",
        "# Import the ModelCheckpoint callback\n",
        "from tensorflow.keras.callbacks import ModelCheckpoint"
      ]
    },
    {
      "cell_type": "code",
      "execution_count": null,
      "metadata": {
        "id": "TOtWkuUPFj8B",
        "colab": {
          "base_uri": "https://localhost:8080/"
        },
        "outputId": "f5a6d478-6370-40e1-de0e-2c6cd6be9075"
      },
      "outputs": [
        {
          "output_type": "stream",
          "name": "stdout",
          "text": [
            "Downloading data from https://storage.googleapis.com/tensorflow/keras-applications/vgg19/vgg19_weights_tf_dim_ordering_tf_kernels_notop.h5\n",
            "\u001b[1m80134624/80134624\u001b[0m \u001b[32m━━━━━━━━━━━━━━━━━━━━\u001b[0m\u001b[37m\u001b[0m \u001b[1m0s\u001b[0m 0us/step\n"
          ]
        }
      ],
      "source": [
        "\n",
        "# Define class names\n",
        "class_names = ['Automatic Rifle', 'Bows or Arrows', 'Knifes', 'Short Gun', 'Sniper', 'Spears or Polearms', 'SubMachine Gun', 'Sword', 'pistols']\n",
        "\n",
        "# Load pre-trained VGG19 model (without top layers)\n",
        "base_model = VGG19(weights='imagenet', include_top=False, input_shape=(224, 224, 3))\n",
        "\n",
        "# Freeze base model layers (optional, but often improves stability)\n",
        "for layer in base_model.layers:\n",
        "    layer.trainable = False"
      ]
    },
    {
      "cell_type": "code",
      "execution_count": null,
      "metadata": {
        "id": "oAv6pLDXFjL5"
      },
      "outputs": [],
      "source": [
        "\n",
        "# Add custom layers for multi-label classification\n",
        "x = Flatten()(base_model.output)\n",
        "x = Dense(512, activation='relu')(x)  # Adjust units as needed\n",
        "x = Dropout(0.5)(x)\n",
        "predictions = Dense(len(class_names), activation='sigmoid')(x)  # Sigmoid for multi-label classification\n",
        "\n",
        "model_sample = Model(inputs=base_model.input, outputs=predictions)\n",
        "\n",
        "model_sample.compile(optimizer=Adam(learning_rate=1e-4),\n",
        "              loss='binary_crossentropy',  # Use binary crossentropy for multi-label classification\n",
        "              metrics=['accuracy'])\n"
      ]
    },
    {
      "cell_type": "code",
      "execution_count": null,
      "metadata": {
        "id": "KbBrMYaNFwHA"
      },
      "outputs": [],
      "source": [
        "\n",
        "\n",
        "def load_and_preprocess_data(data_dir):\n",
        "\n",
        "  # Create an ImageDataGenerator for preprocessing\n",
        "  datagen = ImageDataGenerator(\n",
        "      rescale=1./255,\n",
        "  )\n",
        "\n",
        "  # Load and preprocess the data\n",
        "  data_generator = datagen.flow_from_directory(\n",
        "      data_dir,\n",
        "      target_size=(224, 224),\n",
        "      batch_size=32,\n",
        "      class_mode='categorical'  # Use 'categorical' for multi-label classification\n",
        "  )\n",
        "\n",
        "  return data_generator"
      ]
    },
    {
      "cell_type": "code",
      "execution_count": null,
      "metadata": {
        "colab": {
          "base_uri": "https://localhost:8080/"
        },
        "id": "IM2ssthj_vlk",
        "outputId": "513e5034-e179-4001-f8ef-4fa1b713afcc"
      },
      "outputs": [
        {
          "output_type": "stream",
          "name": "stdout",
          "text": [
            "Found 1567 images belonging to 9 classes.\n",
            "Found 882 images belonging to 9 classes.\n",
            "Epoch 1/30\n"
          ]
        },
        {
          "output_type": "stream",
          "name": "stderr",
          "text": [
            "/usr/local/lib/python3.10/dist-packages/keras/src/trainers/data_adapters/py_dataset_adapter.py:122: UserWarning: Your `PyDataset` class should call `super().__init__(**kwargs)` in its constructor. `**kwargs` can include `workers`, `use_multiprocessing`, `max_queue_size`. Do not pass these arguments to `fit()`, as they will be ignored.\n",
            "  self._warn_if_super_not_called()\n"
          ]
        },
        {
          "output_type": "stream",
          "name": "stdout",
          "text": [
            "\u001b[1m 7/49\u001b[0m \u001b[32m━━\u001b[0m\u001b[37m━━━━━━━━━━━━━━━━━━\u001b[0m \u001b[1m16:35\u001b[0m 24s/step - accuracy: 0.1349 - loss: 0.6209"
          ]
        }
      ],
      "source": [
        "\n",
        "\n",
        "\n",
        "\n",
        "train_data_path = '/content/drive/MyDrive/Resume Projects OpenCV/Weapons Classification using VGG19 (Pre-trained)/train_S'\n",
        "val_data_path = '/content/drive/MyDrive/Resume Projects OpenCV/Weapons Classification using VGG19 (Pre-trained)/test_S'\n",
        "\n",
        "# Use the correct path variables when calling load_and_preprocess_data\n",
        "train_generator = load_and_preprocess_data(train_data_path)\n",
        "val_generator = load_and_preprocess_data(val_data_path)\n",
        "\n",
        "checkpoint_path = \"best_weights_sample.weights.h5\"\n",
        "checkpoint_callback = ModelCheckpoint(\n",
        "    filepath=checkpoint_path,\n",
        "    monitor='val_accuracy',  # Monitor validation accuracy\n",
        "    save_best_only=True,  # Save only the model with the best validation accuracy\n",
        "    save_weights_only=True,  # Only save model weights, not the entire model\n",
        "    mode='max'  # Maximize validation accuracy\n",
        ")\n",
        "\n",
        "# Train the model\n",
        "epochs = 30  # Adjust epochs\n",
        "history = model_sample.fit(\n",
        "    train_generator,\n",
        "    epochs=epochs,\n",
        "    validation_data=val_generator,\n",
        "    callbacks=[checkpoint_callback]\n",
        ")\n",
        "\n",
        "# Save the final weights\n",
        "model_sample.save_weights('final_weights_sample.weights.h5')\n",
        "\n",
        "# Save the model (optional)\n",
        "model_sample.save('vgg19_multilabel_model_sample.h5')\n"
      ]
    },
    {
      "cell_type": "code",
      "source": [],
      "metadata": {
        "id": "HZMHPO3Mqo2N"
      },
      "execution_count": null,
      "outputs": []
    }
  ],
  "metadata": {
    "accelerator": "GPU",
    "colab": {
      "gpuType": "T4",
      "provenance": []
    },
    "kernelspec": {
      "display_name": "Python 3",
      "name": "python3"
    },
    "language_info": {
      "name": "python"
    }
  },
  "nbformat": 4,
  "nbformat_minor": 0
}